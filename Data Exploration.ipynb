{
 "cells": [
  {
   "cell_type": "code",
   "execution_count": 1,
   "id": "f3255707",
   "metadata": {},
   "outputs": [],
   "source": [
    "# Import our dependencies\n",
    "import pandas as pd\n",
    "import numpy as np\n",
    "from matplotlib import pyplot"
   ]
  },
  {
   "cell_type": "markdown",
   "id": "72a3d415",
   "metadata": {},
   "source": [
    "# 1. Load Data"
   ]
  },
  {
   "cell_type": "code",
   "execution_count": 2,
   "id": "b9bb24f2",
   "metadata": {},
   "outputs": [
    {
     "name": "stdout",
     "output_type": "stream",
     "text": [
      "(7352, 128)\n"
     ]
    }
   ],
   "source": [
    "# Import our input dataset\n",
    "def load_file(filepath):\n",
    "    dataframe = pd.read_csv(filepath, header = None, delim_whitespace = True)\n",
    "    return dataframe.values\n",
    "\n",
    "fitbit_df = load_file('Resources/train/Inertial Signals/total_acc_y_train.txt')\n",
    "print(fitbit_df.shape)"
   ]
  },
  {
   "cell_type": "markdown",
   "id": "915a58c1",
   "metadata": {},
   "source": [
    "* Working with multivariate time series data, it is useful to have the data structured in the format:\n",
    "       [samples, timesteps, features]\n",
    "* Once loaded each file as a NumPy array, then combine or stack all three arrays together. \n",
    "* Use the dstack() NumPy function to ensure each array is stacked in a way that the features are separated in the third dimension"
   ]
  },
  {
   "cell_type": "code",
   "execution_count": 3,
   "id": "b297ce8b",
   "metadata": {},
   "outputs": [
    {
     "name": "stdout",
     "output_type": "stream",
     "text": [
      "(7352, 128, 3)\n"
     ]
    }
   ],
   "source": [
    "#load list of files, x,y,z data for a given variable\n",
    "def load_group(filenames, prefix=''):\n",
    "    loaded = list()\n",
    "    for name in filenames:\n",
    "        data = load_file(prefix + name)\n",
    "        loaded.append(data)\n",
    "    #stack group\n",
    "    loaded = np.dstack(loaded)\n",
    "    return loaded\n",
    "\n",
    "# load all of total acceleration files\n",
    "filenames = ['total_acc_x_train.txt', 'total_acc_y_train.txt', 'total_acc_z_train.txt']\n",
    "total_acc = load_group(filenames, prefix = \"Resources/train/Inertial Signals/\")\n",
    "print(total_acc.shape)"
   ]
  },
  {
   "cell_type": "markdown",
   "id": "40f1db83",
   "metadata": {},
   "source": [
    "## Use the two functions to load all data for the train and the test dataset.\n",
    "* develop a new function that loads all input and output data for a given folder\n",
    "* function builds a list of all 9 data files to load and loads them as one NumPy array with 9 features\n",
    "* next load the data file containing the output class\n",
    "\n",
    "#### Results\n",
    "* load the train and test datasets\n",
    "* test dataset has 2,947 rows of window data. \n",
    "* the size of windows in the train and test sets match and the size of the output (y) in each the train and test case matches the number of samples"
   ]
  },
  {
   "cell_type": "code",
   "execution_count": 8,
   "id": "33e3be02",
   "metadata": {},
   "outputs": [
    {
     "name": "stdout",
     "output_type": "stream",
     "text": [
      "(7352, 128, 9) (7352, 1)\n",
      "(2947, 128, 9) (2947, 1)\n"
     ]
    }
   ],
   "source": [
    "# load dataset group, such as train or test\n",
    "def load_dataset(group, prefix=''):\n",
    "    filepath = prefix + group + '/Inertial Signals/'\n",
    "    \n",
    "    # load all 9 files as a single array\n",
    "    filenames = list()\n",
    "\n",
    "    # total acceleration\n",
    "    filenames += ['total_acc_x_'+group+'.txt', 'total_acc_y_'+group+'.txt', 'total_acc_z_'+group+'.txt']\n",
    "\n",
    "    # body acceleration\n",
    "    filenames += ['body_acc_x_'+group+'.txt', 'body_acc_y_'+group+'.txt', 'body_acc_z_'+group+'.txt']\n",
    "\n",
    "    # body gyroscope\n",
    "    filenames += ['body_gyro_x_'+group+'.txt', 'body_gyro_y_'+group+'.txt', 'body_gyro_z_'+group+'.txt']\n",
    "\n",
    "    # load input data\n",
    "    X = load_group(filenames, filepath)\n",
    "\n",
    "    # load class output\n",
    "    y = load_file(prefix + group + '/y_'+group+'.txt')\n",
    "    return X, y\n",
    "\n",
    "# load all train\n",
    "trainX, trainy = load_dataset('train', 'Resources/')\n",
    "print(trainX.shape, trainy.shape)\n",
    "# load all test\n",
    "testX, testy = load_dataset('test', 'Resources/')\n",
    "print(testX.shape, testy.shape)"
   ]
  },
  {
   "cell_type": "markdown",
   "id": "a3313e57",
   "metadata": {},
   "source": [
    "# 2. Balance of Activity Classes\n",
    "\n",
    "* good first check of data is to investigate the balance of each activity.\n",
    "* 30 subjects performed each of the six activities. Confirming this expectation will both check that the data is balanced, making it easier to model, and confirm that the dataset is being loaded and interpreted properly.\n",
    "* will develop a function that summarizes the breakdown of the output variables\n",
    "* wrapp the provided NumPy array in a DataFrame, group the rows by the class value, and calculate the size of each group (number of rows). \n",
    "* results are summarized, including the count and the percentage.\n",
    "\n",
    "#### Results\n",
    "* it summarizes the breakdown for the training set. \n",
    "* similar distribution of each class hovering between 13% and 19% of the dataset.\n",
    "* result on the test set and on both datasets together look very similar.\n",
    "* likely safe to work with the dataset assuming distribution of classes is balanced per train and test set"
   ]
  },
  {
   "cell_type": "code",
   "execution_count": 9,
   "id": "5c536456",
   "metadata": {},
   "outputs": [
    {
     "name": "stdout",
     "output_type": "stream",
     "text": [
      "Train Dataset\n",
      "Class=1, total=1226, percentage=16.676\n",
      "Class=2, total=1073, percentage=14.595\n",
      "Class=3, total=986, percentage=13.411\n",
      "Class=4, total=1286, percentage=17.492\n",
      "Class=5, total=1374, percentage=18.689\n",
      "Class=6, total=1407, percentage=19.138\n",
      "Test Dataset\n",
      "Class=1, total=496, percentage=16.831\n",
      "Class=2, total=471, percentage=15.982\n",
      "Class=3, total=420, percentage=14.252\n",
      "Class=4, total=491, percentage=16.661\n",
      "Class=5, total=532, percentage=18.052\n",
      "Class=6, total=537, percentage=18.222\n",
      "Both\n",
      "Class=1, total=1722, percentage=16.720\n",
      "Class=2, total=1544, percentage=14.992\n",
      "Class=3, total=1406, percentage=13.652\n",
      "Class=4, total=1777, percentage=17.254\n",
      "Class=5, total=1906, percentage=18.507\n",
      "Class=6, total=1944, percentage=18.876\n"
     ]
    }
   ],
   "source": [
    "# summarize  the balance of classes in an output variable column\n",
    "def class_breakdown(data):\n",
    "    # convert the numpy array into a dataframe\n",
    "    df = pd.DataFrame(data)\n",
    "    \n",
    "    #group data by the class value and calculate the number of rows\n",
    "    counts = df.groupby(0).size()\n",
    "    \n",
    "    # retrieve raw rows\n",
    "    counts = counts.values\n",
    "    \n",
    "    #summarize\n",
    "    for i in range(len(counts)):\n",
    "        percent = counts[i] / len(df) * 100\n",
    "        print('Class=%d, total=%d, percentage=%.3f' % (i+1, counts[i], percent))\n",
    "        \n",
    "# load train file\n",
    "trainy = load_file('Resources/train/y_train.txt')\n",
    "# summarize class breakdown\n",
    "print('Train Dataset')\n",
    "class_breakdown(trainy)\n",
    " \n",
    "# load test file\n",
    "testy = load_file('Resources/test/y_test.txt')\n",
    "# summarize class breakdown\n",
    "print('Test Dataset')\n",
    "class_breakdown(testy)\n",
    " \n",
    "# summarize combined class breakdown\n",
    "print('Both')\n",
    "combined = np.vstack((trainy, testy))\n",
    "class_breakdown(combined)"
   ]
  },
  {
   "cell_type": "markdown",
   "id": "e06af83a",
   "metadata": {},
   "source": [
    "# 3. Plot Time Series Data for One Subject\n",
    "\n",
    "* time series data\n",
    "* an import check: create a line plot of the raw data.\n",
    "* The raw data is comprised of windows of time series data per variable, and the windows do have a 50% overlap. \n",
    "* may see repetition in the observations as a line plot unless the overlap is removed.\n",
    "\n",
    "#### First\n",
    "* Retrieve all of the rows for a single subject\n",
    "* take the loaded training data, the loaded mapping of row number to subjects, and the subject identification number for the subject interested in, and return the X and y data for only that subject.\n",
    "\n",
    "#### Second\n",
    "* data for one subject plot it.\n",
    "* write a function to remove data overlap and shrink windows down for given variable into one long sequence which can be plotted directly as a line plot.\n",
    "\n",
    "#### Final\n",
    "\n",
    "* plot each of the nine variables for the subject in turn\n",
    "* a final plot for the activity level.\n",
    "* Each series will have the same number of time steps (length of x-axis)\n",
    "\n",
    "#### Results\n",
    "* periods of large movement corresponding with activities 1, 2, and 3: the walking activities\n",
    "* much less activity (i.e. relatively straight line) for higher numbered activities, 4, 5, and 6 (sitting, standing, and laying).\n",
    "* good confirmation that the dataset has been correctly loaded and interpreted.\n",
    "* see a lot of commonality across the nine variables so very likely that only a subset of these traces are needed to develop a predictive model.\n",
    "* will find other subjects show similar behavior given that they performed the same actions."
   ]
  },
  {
   "cell_type": "code",
   "execution_count": 21,
   "id": "b354f0d2",
   "metadata": {},
   "outputs": [
    {
     "name": "stdout",
     "output_type": "stream",
     "text": [
      "[ 1  3  5  6  7  8 11 14 15 16 17 19 21 22 23 25 26 27 28 29 30]\n"
     ]
    }
   ],
   "source": [
    "# load data\n",
    "trainX, trainy = load_dataset('train', 'Resources/')\n",
    "\n",
    "# retrieve a list of the unique subjects in the training dataset\n",
    "sub_map = load_file('Resources/train/subject_train.txt')\n",
    "train_subjects = np.unique(sub_map)\n",
    "print(train_subjects)"
   ]
  },
  {
   "cell_type": "code",
   "execution_count": 22,
   "id": "8853eedc",
   "metadata": {},
   "outputs": [],
   "source": [
    "# get all data for one subject\n",
    "def data_for_subject(X, y, sub_map, sub_id):\n",
    "    # get row indexes for the subject id\n",
    "    ix = [i for i in range(len(sub_map)) if sub_map[i]==sub_id]\n",
    "    # return the selected samples\n",
    "    return X[ix, :, :], y[ix]"
   ]
  },
  {
   "cell_type": "code",
   "execution_count": 23,
   "id": "2ebfe268",
   "metadata": {},
   "outputs": [],
   "source": [
    "# convert a series of windows to a 1D list\n",
    "def to_series(windows):\n",
    "    series = list()\n",
    "    for window in windows:\n",
    "        # remove overlap from the window\n",
    "        half = int(len(window) /2) - 1\n",
    "        for value in window[-half:]:\n",
    "            series.append(value)\n",
    "    return series"
   ]
  },
  {
   "cell_type": "code",
   "execution_count": 24,
   "id": "4bef93e9",
   "metadata": {},
   "outputs": [
    {
     "name": "stdout",
     "output_type": "stream",
     "text": [
      "[ 1  3  5  6  7  8 11 14 15 16 17 19 21 22 23 25 26 27 28 29 30]\n",
      "(347, 128, 9) (347, 1)\n"
     ]
    },
    {
     "data": {
      "image/png": "[encoded data removed]",
      "text/plain": [
       "<Figure size 432x288 with 10 Axes>"
      ]
     },
     "metadata": {
      "needs_background": "light"
     },
     "output_type": "display_data"
    }
   ],
   "source": [
    "# plot the data for one subject\n",
    "def plot_subject(X, y):\n",
    "    pyplot.figure()\n",
    "    \n",
    "    # determine the total number of plots\n",
    "    n, off = X.shape[2] + 1, 0\n",
    "    \n",
    "    # plot total acc\n",
    "    for i in range(3):\n",
    "        pyplot.subplot(n, 1, off+1)\n",
    "        pyplot.plot(to_series(X[:, :, off]))\n",
    "        pyplot.title('total acc '+str(i), y=0, loc='left')\n",
    "        off += 1\n",
    "    \n",
    "    # plot body acc\n",
    "    for i in range(3):\n",
    "        pyplot.subplot(n, 1, off+1)\n",
    "        pyplot.plot(to_series(X[:, :, off]))\n",
    "        pyplot.title('body acc '+str(i), y=0, loc='left')\n",
    "        off += 1\n",
    "    \n",
    "    # plot body gyro\n",
    "    for i in range(3):\n",
    "        pyplot.subplot(n, 1, off+1)\n",
    "        pyplot.plot(to_series(X[:, :, off]))\n",
    "        pyplot.title('body gyro '+str(i), y=0, loc='left')\n",
    "        off += 1\n",
    "    # plot activities\n",
    "    pyplot.subplot(n, 1, n)\n",
    "    pyplot.plot(y)\n",
    "    pyplot.title('activity', y=0, loc='left')\n",
    "    pyplot.show()\n",
    "    \n",
    "# load data\n",
    "trainX, trainy = load_dataset('train', 'Resources/')\n",
    "\n",
    "# load mapping of rows to subjects\n",
    "sub_map = load_file('Resources/train/subject_train.txt')\n",
    "train_subjects = np.unique(sub_map)\n",
    "print(train_subjects)\n",
    "\n",
    "# get the data for one subject\n",
    "sub_id = train_subjects[0]\n",
    "subX, suby = data_for_subject(trainX, trainy, sub_map, sub_id)\n",
    "\n",
    "print(subX.shape, suby.shape)\n",
    "\n",
    "# plot data for subject\n",
    "plot_subject(subX, suby)"
   ]
  },
  {
   "cell_type": "markdown",
   "id": "86bf7fd6",
   "metadata": {},
   "source": [
    "# 4. Plot Histograms Per Subject\n",
    "\n",
    "* regularity in movement data across subjects\n",
    "* data has been scaled between -1 and 1, per subject, so the amplitude of detected movements will be similar.\n",
    "* check for similarity of behavior across subjects by plotting and comparing the histograms of movement data across subjects. \n",
    "* create one plot per subject and plot all three axis of a given data, then repeat this for multiple subjects.\n",
    "\n",
    "#### Results\n",
    "* some of the distributions align (e.g. main groups in the middle around 0.0), so there may be some continuity of movement data across subjects\n",
    "* strong consistency across subjects could later help for the modeling\n",
    "* differences across subjects in total acceleration data may not be as helpful."
   ]
  },
  {
   "cell_type": "code",
   "execution_count": 28,
   "id": "74d8b12f",
   "metadata": {},
   "outputs": [
    {
     "name": "stderr",
     "output_type": "stream",
     "text": [
      "/opt/anaconda3/envs/mlenv/lib/python3.7/site-packages/ipykernel_launcher.py:18: MatplotlibDeprecationWarning: Adding an axes using the same arguments as a previous axes currently reuses the earlier instance.  In a future version, a new instance will always be created and returned.  Meanwhile, this warning can be suppressed, and the future behavior ensured, by passing a unique label to each axes instance.\n"
     ]
    },
    {
     "data": {
      "image/png": "[encoded data removed]",
      "text/plain": [
       "<Figure size 432x288 with 10 Axes>"
      ]
     },
     "metadata": {
      "needs_background": "light"
     },
     "output_type": "display_data"
    }
   ],
   "source": [
    "# plot histograms for multiple subjects\n",
    "def plot_subject_histograms(X, y, sub_map, n=10):\n",
    "    pyplot.figure()\n",
    "    \n",
    "    # get unique subjects\n",
    "    subject_ids = np.unique(sub_map[:,0])\n",
    "\n",
    "    # enumerate subjects\n",
    "    xaxis = None\n",
    "    for k in range(n):\n",
    "        sub_id = subject_ids[k]\n",
    "\n",
    "        # get data for one subject\n",
    "        subX, _ = data_for_subject(X, y, sub_map, sub_id)\n",
    "\n",
    "        # body acc\n",
    "        for i in range(3):\n",
    "            ax = pyplot.subplot(n, 1, k+1, sharex=xaxis)\n",
    "            ax.set_xlim(-1,1)\n",
    "            if k == 0:\n",
    "                xaxis = ax\n",
    "            pyplot.hist(to_series(subX[:,:,6+i]), bins=100)\n",
    "    pyplot.show()\n",
    "    \n",
    "# load training dataset\n",
    "X, y = load_dataset('train', 'Resources/')\n",
    "# load mapping of rows to subjects\n",
    "sub_map = load_file('resources/train/subject_train.txt')\n",
    "# plot histograms for subjects\n",
    "plot_subject_histograms(X, y, sub_map)"
   ]
  },
  {
   "cell_type": "markdown",
   "id": "e1462191",
   "metadata": {},
   "source": [
    "# 5. Plot Histograms Per Activity\n",
    "\n",
    "* interested in discriminating between activities based on activity data.\n",
    "* discriminate between activities for a single subject. \n",
    "* review the distribution of movement data for a subject by activity.\n",
    "* create a histogram plot per activity, with the three axis of a given data type on each plot. \n",
    "* expect to see differences in the distributions across activities down the plots.\n",
    "\n",
    "#### Results\n",
    "* each activity has a different data distribution, with a marked difference between the large movement (first three activities) with the stationary activities (last three activities). \n",
    "* Data distributions for the first three activities look Gaussian \n",
    "* Distributions for the latter activities look multi-modal (i.e. multiple peaks).\n",
    "* creates plots with the similar pattern as the body acceleration data, although shows perhaps fat-tailed Gaussian-like distributions instead of bimodal distributions for the in-motion activities.\n",
    "* would expect to see similar distributions and relationships for the movement data across activities for other subjects."
   ]
  },
  {
   "cell_type": "code",
   "execution_count": 31,
   "id": "8b715b4a",
   "metadata": {},
   "outputs": [
    {
     "name": "stderr",
     "output_type": "stream",
     "text": [
      "/opt/anaconda3/envs/mlenv/lib/python3.7/site-packages/ipykernel_launcher.py:18: MatplotlibDeprecationWarning: Adding an axes using the same arguments as a previous axes currently reuses the earlier instance.  In a future version, a new instance will always be created and returned.  Meanwhile, this warning can be suppressed, and the future behavior ensured, by passing a unique label to each axes instance.\n"
     ]
    },
    {
     "data": {
      "image/png": "[encoded data removed]",
      "text/plain": [
       "<Figure size 432x288 with 6 Axes>"
      ]
     },
     "metadata": {
      "needs_background": "light"
     },
     "output_type": "display_data"
    }
   ],
   "source": [
    "# plot histograms for each activity for a subject\n",
    "def plot_activity_histograms(X, y):\n",
    "\n",
    "    # get a list of unique activities for the subject\n",
    "    activity_ids = np. unique(y[:,0])\n",
    "\n",
    "    # group windows by activity\n",
    "    grouped = data_by_activity(X, y, activity_ids)\n",
    "\n",
    "    # plot per activity, histograms for each axis\n",
    "    pyplot.figure()\n",
    "    xaxis = None\n",
    "    for k in range(len(activity_ids)):\n",
    "        act_id = activity_ids[k]\n",
    "\n",
    "        # total acceleration\n",
    "        for i in range(3):\n",
    "            ax = pyplot.subplot(len(activity_ids), 1, k+1, sharex=xaxis)\n",
    "            ax.set_xlim(-1,1)\n",
    "            if k == 0:\n",
    "                xaxis = ax\n",
    "            pyplot.hist(to_series(grouped[act_id][:,:,6+i]), bins=100)\n",
    "            pyplot.title('activity '+str(act_id), y=0, loc='left')\n",
    "    pyplot.show()\n",
    "\n",
    "# load data\n",
    "trainX, trainy = load_dataset('train', 'Resources/')\n",
    "# load mapping of rows to subjects\n",
    "sub_map = load_file('Resources/train/subject_train.txt')\n",
    "train_subjects = np.unique(sub_map)\n",
    "# get the data for one subject\n",
    "sub_id = train_subjects[0]\n",
    "subX, suby = data_for_subject(trainX, trainy, sub_map, sub_id)\n",
    "# plot data for subject\n",
    "plot_activity_histograms(subX, suby)"
   ]
  },
  {
   "cell_type": "markdown",
   "id": "2b4207ec",
   "metadata": {},
   "source": [
    "# 6. Plot Activity Duration Boxplots\n",
    "\n",
    "* final area to consider is how long a subject spends on each activity.\n",
    "* related to the balance of classes. \n",
    "* If activities (classes) are balanced within dataset, then expect balance of activities for a given subject over course of their trace would be reasonably well balanced.\n",
    "* confirm this by calculating how long (in samples or rows) each subject spends on each activity \n",
    "* look at distribution of durations for each activity.\n",
    "* summarize the distributions as boxplots: create a boxplot per activity of the duration measurements.\n",
    "\n",
    "#### Results\n",
    "* Shows a similar relationship between activities.\n",
    "* suggests that the test and training dataset are reasonably representative of the whole dataset."
   ]
  },
  {
   "cell_type": "code",
   "execution_count": 34,
   "id": "1c5f54bd",
   "metadata": {},
   "outputs": [
    {
     "data": {
      "image/png": "[encoded data removed]",
      "text/plain": [
       "<Figure size 432x288 with 1 Axes>"
      ]
     },
     "metadata": {
      "needs_background": "light"
     },
     "output_type": "display_data"
    }
   ],
   "source": [
    "# plot activity durations by subject\n",
    "def plot_activity_durations_by_subject(X, y, sub_map):\n",
    "\n",
    "    # get unique subjects and activities\n",
    "    subject_ids = np.unique(sub_map[:,0])\n",
    "    activity_ids = np.unique(y[:,0])\n",
    "\n",
    "    # enumerate subjects\n",
    "    activity_windows = {a:list() for a in activity_ids}\n",
    "    for sub_id in subject_ids:\n",
    "\n",
    "        # get data for one subject\n",
    "        _, subj_y = data_for_subject(X, y, sub_map, sub_id)\n",
    "\n",
    "        # count windows by activity\n",
    "        for a in activity_ids:\n",
    "            activity_windows[a].append(len(subj_y[subj_y[:,0]==a]))\n",
    "    \n",
    "    # organize durations into a list of lists\n",
    "    durations = [activity_windows[a] for a in activity_ids]\n",
    "    pyplot.boxplot(durations, labels=activity_ids)\n",
    "    pyplot.show()\n",
    "    \n",
    "# load training dataset\n",
    "X, y = load_dataset('train', 'Resources/')\n",
    "# load mapping of rows to subjects\n",
    "sub_map = load_file('Resources/train/subject_train.txt')\n",
    "# plot durations\n",
    "plot_activity_durations_by_subject(X, y, sub_map)\n"
   ]
  },
  {
   "cell_type": "code",
   "execution_count": 36,
   "id": "f684b1bd",
   "metadata": {},
   "outputs": [
    {
     "data": {
      "image/png": "[encoded data removed]",
      "text/plain": [
       "<Figure size 432x288 with 1 Axes>"
      ]
     },
     "metadata": {
      "needs_background": "light"
     },
     "output_type": "display_data"
    }
   ],
   "source": [
    "# With Testing\n",
    "# load test dataset\n",
    "X, y = load_dataset('test', 'Resources/')\n",
    "# load mapping of rows to subjects\n",
    "sub_map = load_file('Resources/test/subject_test.txt')\n",
    "# plot durations\n",
    "plot_activity_durations_by_subject(X, y, sub_map)"
   ]
  },
  {
   "cell_type": "code",
   "execution_count": null,
   "id": "3d588fde",
   "metadata": {},
   "outputs": [],
   "source": []
  }
 ],
 "metadata": {
  "kernelspec": {
   "display_name": "mlenv",
   "language": "python",
   "name": "mlenv"
  },
  "language_info": {
   "codemirror_mode": {
    "name": "ipython",
    "version": 3
   },
   "file_extension": ".py",
   "mimetype": "text/x-python",
   "name": "python",
   "nbconvert_exporter": "python",
   "pygments_lexer": "ipython3",
   "version": "3.7.10"
  }
 },
 "nbformat": 4,
 "nbformat_minor": 5
}
